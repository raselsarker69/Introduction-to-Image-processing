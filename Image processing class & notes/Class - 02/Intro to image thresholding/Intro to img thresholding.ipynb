{
 "cells": [
  {
   "cell_type": "code",
   "execution_count": null,
   "id": "61f727c4-a816-47a5-b2d1-3bb61b974cb6",
   "metadata": {},
   "outputs": [],
   "source": [
    "import cv2\n",
    "\n",
    "img_path = cv2.imread('berry-1.jpg', 0)  # 0 indicates grayscale mode\n",
    "\n",
    "\n",
    "th, res = cv2.threshold(img_path, 130, 255, cv2.THRESH_BINARY)  # 1. cv2.threshold is function 2.img_path is source img. 3.threshold value is 130 4.max pixel value 255 5.threshold type.\n",
    "\n",
    "cv2.imshow(\"Threshold Image:\", res)\n",
    "cv2.waitKey(0)\n",
    "cv2.destroyAllWindows()"
   ]
  },
  {
   "cell_type": "code",
   "execution_count": null,
   "id": "eb5d8bbb-e79b-4191-9fdd-a17ec2b22b1f",
   "metadata": {},
   "outputs": [],
   "source": [
    "import cv2\n",
    "\n",
    "# Read the image as grayscale\n",
    "img_path = cv2.imread('berry-1.jpg', 0)  # 0 indicates grayscale mode\n",
    "#print(img_path)\n",
    "\n",
    "# Apply the threshold function\n",
    "th, res = cv2.threshold(img_path, 130, 255, cv2.THRESH_BINARY)\n",
    "\n",
    "# Display the thresholded image\n",
    "cv2.imshow(\"Threshold Image\", res)\n",
    "\n",
    "# Wait for a key press and close the windows\n",
    "cv2.waitKey(0)\n",
    "cv2.destroyAllWindows()"
   ]
  },
  {
   "cell_type": "code",
   "execution_count": null,
   "id": "22c71c1d-8fb1-430d-8fff-0ad4be0a1b4e",
   "metadata": {},
   "outputs": [],
   "source": [
    "import cv2\n",
    "import matplotlib.pyplot as plt\n",
    "\n",
    "# Read the image as grayscale\n",
    "img_path = cv2.imread('berry-1.jpg', 0)  # 0 indicates grayscale mode\n",
    "\n",
    "\n",
    "# Apply the threshold function\n",
    "th, res = cv2.threshold(img_path, 130, 255, cv2.THRESH_BINARY)\n",
    "\n",
    "# Use matplotlib to display the image\n",
    "plt.imshow(res, cmap='gray')\n",
    "plt.title('Threshold Image')\n",
    "plt.axis('off')  # Turn off axis labels\n",
    "plt.show()\n",
    "\n"
   ]
  },
  {
   "cell_type": "code",
   "execution_count": null,
   "id": "494e0ca8-235d-4a60-8117-fce96f9e69f0",
   "metadata": {},
   "outputs": [],
   "source": [
    "pip install opencv-python"
   ]
  },
  {
   "cell_type": "code",
   "execution_count": null,
   "id": "8c59f4a4-50d5-4dae-9fc9-f4dcb3f33a6b",
   "metadata": {},
   "outputs": [],
   "source": [
    "import cv2\n",
    "print(cv2.__version__)  # Check if OpenCV is installed\n"
   ]
  },
  {
   "cell_type": "code",
   "execution_count": null,
   "id": "97c87803-93c2-489a-b155-caab122b0c1e",
   "metadata": {},
   "outputs": [],
   "source": [
    "p = 4, a = 4 \n",
    "print(p+q)"
   ]
  },
  {
   "cell_type": "code",
   "execution_count": null,
   "id": "0e5b94cc-9086-40e0-b682-bb5bb359130e",
   "metadata": {},
   "outputs": [],
   "source": [
    "b"
   ]
  },
  {
   "cell_type": "code",
   "execution_count": null,
   "id": "c4bf7b4c-1ea1-4514-9fa6-c711d0399022",
   "metadata": {},
   "outputs": [],
   "source": []
  }
 ],
 "metadata": {
  "kernelspec": {
   "display_name": "Python 3 (ipykernel)",
   "language": "python",
   "name": "python3"
  },
  "language_info": {
   "codemirror_mode": {
    "name": "ipython",
    "version": 3
   },
   "file_extension": ".py",
   "mimetype": "text/x-python",
   "name": "python",
   "nbconvert_exporter": "python",
   "pygments_lexer": "ipython3",
   "version": "3.11.8"
  }
 },
 "nbformat": 4,
 "nbformat_minor": 5
}
